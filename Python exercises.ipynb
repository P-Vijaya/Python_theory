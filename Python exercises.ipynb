{
 "cells": [
  {
   "cell_type": "markdown",
   "metadata": {},
   "source": [
    "## 1) Given two integer numbers return their product. If the product is greater than 1000, then return their sum\n",
    "\n",
    "Given 1:                               \n",
    "\n",
    "number1 = 40                           \n",
    "\n",
    "number2 = 30                           \n",
    "\n",
    "Expected Output:\n",
    "                                       \n",
    "The result is 600  \n",
    "\n",
    "Given 2:\n",
    "\n",
    "number1 = 20\n",
    "\n",
    "number2 = 30\n",
    "\n",
    "Expected Output:\n",
    "\n",
    "The result is 70"
   ]
  },
  {
   "cell_type": "code",
   "execution_count": 28,
   "metadata": {},
   "outputs": [
    {
     "name": "stdout",
     "output_type": "stream",
     "text": [
      "The result is: 600\n",
      "The result is: 70\n"
     ]
    }
   ],
   "source": [
    "def mulorsum(a,b):\n",
    "    c=a*b\n",
    "    if c<1000:\n",
    "        return c\n",
    "    else:\n",
    "        return a+b\n",
    "result=mulorsum(20,30)\n",
    "print(\"The result is:\",result)\n",
    "\n",
    "result=mulorsum(40,30)\n",
    "print(\"The result is:\",result)\n",
    "    "
   ]
  },
  {
   "cell_type": "markdown",
   "metadata": {},
   "source": [
    "## 2) Given a range of the first 10 numbers, Iterate from the start number to the end number, \n",
    "and In each iteration print the sum of the current number and previous number\n",
    "\n",
    "Expected Output:\n",
    "\n",
    "Printing current and previous number sum in a range(10)\n",
    "\n",
    "Current Number 0 Previous Number  0  Sum:  0\n",
    "\n",
    "Current Number 1 Previous Number  0  Sum:  1\n",
    "\n",
    "Current Number 2 Previous Number  1  Sum:  3\n",
    "\n",
    "Current Number 3 Previous Number  2  Sum:  5\n",
    "\n",
    "Current Number 4 Previous Number  3  Sum:  7\n",
    "\n",
    "Current Number 5 Previous Number  4  Sum:  9\n",
    "\n",
    "Current Number 6 Previous Number  5  Sum:  11\n",
    "\n",
    "Current Number 7 Previous Number  6  Sum:  13\n",
    "\n",
    "Current Number 8 Previous Number  7  Sum:  15\n",
    "\n",
    "Current Number 9 Previous Number  8  Sum:  17"
   ]
  },
  {
   "cell_type": "code",
   "execution_count": 1,
   "metadata": {},
   "outputs": [
    {
     "name": "stdout",
     "output_type": "stream",
     "text": [
      "printing current and previous number sum in a range(10)\n",
      "current number 0 previous number 0 sum:0\n",
      "current number 1 previous number 0 sum:1\n",
      "current number 2 previous number 1 sum:3\n",
      "current number 3 previous number 2 sum:5\n",
      "current number 4 previous number 3 sum:7\n",
      "current number 5 previous number 4 sum:9\n",
      "current number 6 previous number 5 sum:11\n",
      "current number 7 previous number 6 sum:13\n",
      "current number 8 previous number 7 sum:15\n",
      "current number 9 previous number 8 sum:17\n"
     ]
    }
   ],
   "source": [
    "def sumnum(num):\n",
    "    previousnum = 0\n",
    "    for i in range(num):\n",
    "        sum= previousnum + i\n",
    "        print(\"current number {} previous number {} sum:{}\".format(i,previousnum,sum))\n",
    "        previousnum= i\n",
    "print(\"printing current and previous number sum in a range(10)\")\n",
    "sumnum(10)\n",
    "    "
   ]
  },
  {
   "cell_type": "markdown",
   "metadata": {},
   "source": [
    "## 3) Given a string, display only those characters which are present at an even index number.\n",
    "For example, str = \"pynative\" so you should display ‘p’, ‘n’, ‘t’, ‘v’.\n",
    "\n",
    "Expected Output:\n",
    "Orginal String is  pynative\n",
    "\n",
    "Printing only even index chars\n",
    "\n",
    "p\n",
    "\n",
    "n\n",
    "\n",
    "t\n",
    "\n",
    "v"
   ]
  },
  {
   "cell_type": "code",
   "execution_count": 17,
   "metadata": {},
   "outputs": [
    {
     "name": "stdout",
     "output_type": "stream",
     "text": [
      "The orginal string is pynative\n",
      "Printing only even index chars\n",
      "p\n",
      "n\n",
      "t\n",
      "v\n"
     ]
    }
   ],
   "source": [
    "inputstr=\"pynative\"\n",
    "print(\"The orginal string is\",inputstr)\n",
    "print(\"Printing only even index chars\")\n",
    "def indexchar(str):\n",
    "    for i in range(0,len(str)-1,2):\n",
    "        print(str[i])\n",
    "indexchar(inputstr)\n",
    "    "
   ]
  },
  {
   "cell_type": "markdown",
   "metadata": {},
   "source": [
    "## 4) Given a string and an integer number n, remove characters from a string starting from zero up to n and return a new string\n",
    "\n",
    "For example, removeChars(\"pynative\", 4) so output must be tive.\n",
    "\n",
    "Note: n must be less than the length of the string."
   ]
  },
  {
   "cell_type": "code",
   "execution_count": 29,
   "metadata": {},
   "outputs": [
    {
     "name": "stdout",
     "output_type": "stream",
     "text": [
      "tive\n"
     ]
    }
   ],
   "source": [
    "def removechar(str,n):\n",
    "    i=str[n:]\n",
    "    print(i)\n",
    "removechar(\"pynative\",4)\n",
    "\n",
    "    "
   ]
  },
  {
   "cell_type": "markdown",
   "metadata": {},
   "source": [
    "## 5) Given a list of numbers, return True if first and last number of a list is same\n",
    "\n",
    "Expected Output:\n",
    "\n",
    "Given list is  [10, 20, 30, 40, 10]\n",
    "\n",
    "result is True\n",
    "\n",
    "Given list is  [10, 20, 30, 40, 50]\n",
    "\n",
    "result is False"
   ]
  },
  {
   "cell_type": "code",
   "execution_count": 23,
   "metadata": {},
   "outputs": [
    {
     "name": "stdout",
     "output_type": "stream",
     "text": [
      "Given list is [10, 20, 30, 40, 10]\n",
      "True\n",
      "Given list is [10, 20, 30, 40, 50]\n",
      "False\n"
     ]
    }
   ],
   "source": [
    "def sameornot(list):\n",
    "    print(\"Given list is\",list)\n",
    "    if list[0]==list[-1]:\n",
    "        return True\n",
    "    else:\n",
    "        return False\n",
    "print(sameornot([10,20,30,40,10]))\n",
    "print(sameornot([10,20,30,40,50]))\n",
    "    "
   ]
  },
  {
   "cell_type": "markdown",
   "metadata": {},
   "source": [
    "## 6) Given a list of numbers, Iterate it and print only those numbers which are divisible of 5\n",
    "\n",
    "Expected Output:\n",
    "\n",
    "Given list is  [10, 20, 33, 46, 55]\n",
    "\n",
    "Divisible of 5 in a list\n",
    "\n",
    "10\n",
    "\n",
    "20\n",
    "\n",
    "55"
   ]
  },
  {
   "cell_type": "code",
   "execution_count": 9,
   "metadata": {},
   "outputs": [
    {
     "name": "stdout",
     "output_type": "stream",
     "text": [
      "The given list is: [10, 20, 33, 46, 55]\n",
      "Divisible of 5 in list\n",
      "10\n",
      "20\n",
      "55\n"
     ]
    }
   ],
   "source": [
    "def divby5(list):\n",
    "    print(\"The given list is:\",list)\n",
    "    print(\"Divisible of 5 in list\")\n",
    "    for i in list:\n",
    "        if (i % 5 == 0):\n",
    "            print(i)\n",
    "divby5([10,20,33,46,55])"
   ]
  },
  {
   "cell_type": "markdown",
   "metadata": {},
   "source": [
    "## 7) Return the count of sub-string “Emma” appears in the given string\n",
    "\n",
    "Given:\n",
    "\n",
    "str = \"Emma is good developer. Emma is a writer\"\n",
    "\n",
    "Expected Output:\n",
    "\n",
    "Emma appeared 2 times"
   ]
  },
  {
   "cell_type": "code",
   "execution_count": 15,
   "metadata": {},
   "outputs": [
    {
     "name": "stdout",
     "output_type": "stream",
     "text": [
      "Emma is good developer. Emma is a writer\n",
      "Emma appeared 2 times\n"
     ]
    }
   ],
   "source": [
    "str = \"Emma is good developer. Emma is a writer\"\n",
    "print(str)\n",
    "count = str.count(\"Emma\")\n",
    "print(\"Emma appeared\",count,\"times\")"
   ]
  },
  {
   "cell_type": "markdown",
   "metadata": {},
   "source": [
    "## 8) Print the following pattern\n",
    "\n",
    "1 \n",
    "\n",
    "2 2 \n",
    "\n",
    "3 3 3 \n",
    "\n",
    "4 4 4 4 \n",
    "\n",
    "5 5 5 5 5"
   ]
  },
  {
   "cell_type": "code",
   "execution_count": 19,
   "metadata": {},
   "outputs": [
    {
     "name": "stdout",
     "output_type": "stream",
     "text": [
      "1 \n",
      "2 2 \n",
      "3 3 3 \n",
      "4 4 4 4 \n",
      "5 5 5 5 5 \n"
     ]
    }
   ],
   "source": [
    "for i in range(1,6):\n",
    "    for j in range(i):\n",
    "        print(i,end=\" \")\n",
    "    print()"
   ]
  },
  {
   "cell_type": "markdown",
   "metadata": {},
   "source": [
    "## 9) Reverse a given number and return true if it is the same as the original number\n",
    "\n",
    "Expected Output:\n",
    "\n",
    "\n",
    "original number 121\n",
    "\n",
    "The original and reverse number is the same\n",
    "\n",
    "\n",
    "original number 125\n",
    "\n",
    "The original and reverse number is not same"
   ]
  },
  {
   "cell_type": "code",
   "execution_count": 33,
   "metadata": {},
   "outputs": [
    {
     "name": "stdout",
     "output_type": "stream",
     "text": [
      "The orginal number 121\n",
      "The orginal and reverse number is same: True\n",
      "The orginal number 125\n",
      "The orginal and reverse number is same: False\n"
     ]
    }
   ],
   "source": [
    "def reversecheck(number):\n",
    "    print(\"The orginal number\",number)\n",
    "    orginalnum=number\n",
    "    reversenum=0\n",
    "    while(number>0):\n",
    "        reminder = number % 10\n",
    "        reversenum = (reversenum * 10) + reminder\n",
    "        number = number // 10\n",
    "    if(orginalnum == reversenum):\n",
    "        return True\n",
    "    else:\n",
    "        return False\n",
    "\n",
    "print(\"The orginal and reverse number is same:\",reversecheck(121))\n",
    "print(\"The orginal and reverse number is same:\",reversecheck(125))\n",
    "        \n"
   ]
  },
  {
   "cell_type": "markdown",
   "metadata": {},
   "source": [
    "## 10) Given a two list of numbers create a new list such that new list should contain only odd numbers from the first list and even numbers from the second list\n",
    "\n",
    "Expected Output:\n",
    "\n",
    "list1 =  [10, 20, 23, 11, 17]\n",
    "\n",
    "list 2 = [13, 43, 24, 36, 12]\n",
    "\n",
    "result List is [23, 11, 17, 24, 36, 12]\n"
   ]
  },
  {
   "cell_type": "code",
   "execution_count": 34,
   "metadata": {},
   "outputs": [
    {
     "name": "stdout",
     "output_type": "stream",
     "text": [
      "The list1 is: [10, 20, 23, 11, 17]\n",
      "The list2 is: [13, 43, 24, 36, 12]\n",
      "Result list is [23, 11, 17, 24, 36, 12]\n"
     ]
    }
   ],
   "source": [
    "def oddeven(list1,list2):\n",
    "    result=[]\n",
    "    print(\"The list1 is:\",list1)\n",
    "    print(\"The list2 is:\",list2)\n",
    "    for i in list1:\n",
    "        if i % 2 == 1:\n",
    "            result.append(i)\n",
    "    for j in list2:\n",
    "        if j % 2 == 0:\n",
    "            result.append(j)\n",
    "    print(\"Result list is\",result)\n",
    "oddeven([10,20,23,11,17],[13,43,24,36,12])"
   ]
  },
  {
   "cell_type": "markdown",
   "metadata": {},
   "source": [
    " ## 11) Write a code to extract each digit from an integer, in the reverse order\n",
    "\n",
    "Expected Output:\n",
    "\n",
    "If the given int is 7536, the output shall be “6 3 5 7“, with a space separating the digits."
   ]
  },
  {
   "cell_type": "code",
   "execution_count": 44,
   "metadata": {},
   "outputs": [
    {
     "name": "stdout",
     "output_type": "stream",
     "text": [
      "Given number 7536\n",
      "6 3 5 7 "
     ]
    }
   ],
   "source": [
    "number = 7536\n",
    "print(\"Given number\", number)\n",
    "while (number > 0):\n",
    "    digit = number % 10\n",
    "    number = number // 10\n",
    "    print(digit, end=\" \")"
   ]
  },
  {
   "cell_type": "markdown",
   "metadata": {},
   "source": [
    "## 12) Calculate income tax for the given income by adhering to the below rules\n",
    "\n",
    "Taxable Income\tRate (in %)\n",
    "\n",
    "First $10,000\t0\n",
    "\n",
    "Next $10,000\t10\n",
    "\n",
    "The remaining\t20\n",
    "\n",
    "Expected Output:\n",
    "\n",
    "For example, suppose that the taxable income is $45000 the income tax payable is\n",
    "\n",
    "10000 * 0 % + 10000 * 10 %  + 25000 * 20 % = 6000"
   ]
  },
  {
   "cell_type": "code",
   "execution_count": 43,
   "metadata": {},
   "outputs": [
    {
     "name": "stdout",
     "output_type": "stream",
     "text": [
      "Given income 15000\n",
      "The total tax to pay is 500.0\n"
     ]
    }
   ],
   "source": [
    "income = 15000\n",
    "taxpayable = 0\n",
    "print(\"Given income\", income)\n",
    "if income <= 10000:\n",
    "    taxpayable = 0\n",
    "elif income <= 20000:\n",
    "    taxpayable = (income - 10000)*10/100\n",
    "else:\n",
    "    taxpayable = 0\n",
    "    taxpayable = 10000*10/100\n",
    "    taxpayable += (income - 20000)*20/100\n",
    "    \n",
    "print(\"The total tax to pay is\",taxpayable)"
   ]
  },
  {
   "cell_type": "markdown",
   "metadata": {},
   "source": [
    "## 13) Print multiplication table form 1 to 10\n",
    "\n",
    "Expected Output:\n",
    "\n",
    "1  2 3 4 5 6 7 8 9 10 \t\t\n",
    "2  4 6 8 10 12 14 16 18 20 \t\t\n",
    "3  6 9 12 15 18 21 24 27 30 \t\t\n",
    "4  8 12 16 20 24 28 32 36 40 \t\t\n",
    "5  10 15 20 25 30 35 40 45 50 \t\t\n",
    "6  12 18 24 30 36 42 48 54 60 \t\t\n",
    "7  14 21 28 35 42 49 56 63 70 \t\t\n",
    "8  16 24 32 40 48 56 64 72 80 \t\t\n",
    "9  18 27 36 45 54 63 72 81 90 \t\t\n",
    "10 20 30 40 50 60 70 80 90 100 "
   ]
  },
  {
   "cell_type": "code",
   "execution_count": 71,
   "metadata": {},
   "outputs": [
    {
     "name": "stdout",
     "output_type": "stream",
     "text": [
      "1 2 3 4 5 6 7 8 9 10 \t\t\n",
      "2 4 6 8 10 12 14 16 18 20 \t\t\n",
      "3 6 9 12 15 18 21 24 27 30 \t\t\n",
      "4 8 12 16 20 24 28 32 36 40 \t\t\n",
      "5 10 15 20 25 30 35 40 45 50 \t\t\n",
      "6 12 18 24 30 36 42 48 54 60 \t\t\n",
      "7 14 21 28 35 42 49 56 63 70 \t\t\n",
      "8 16 24 32 40 48 56 64 72 80 \t\t\n",
      "9 18 27 36 45 54 63 72 81 90 \t\t\n",
      "10 20 30 40 50 60 70 80 90 100 \t\t\n"
     ]
    }
   ],
   "source": [
    "for i in range(1,11):\n",
    "    a = i * 1\n",
    "    b = i * 2\n",
    "    c = i * 3\n",
    "    d = i * 4\n",
    "    e = i * 5\n",
    "    f = i * 6\n",
    "    g = i * 7\n",
    "    h = i * 8\n",
    "    k = i * 9\n",
    "    j = i * 10\n",
    "    print(a,b,c,d,e,f,g,h,k,j,end=\" \")\n",
    "    print(\"\\t\\t\")\n"
   ]
  },
  {
   "cell_type": "markdown",
   "metadata": {},
   "source": [
    "#                                              OR"
   ]
  },
  {
   "cell_type": "code",
   "execution_count": 66,
   "metadata": {},
   "outputs": [
    {
     "name": "stdout",
     "output_type": "stream",
     "text": [
      "1 2 3 4 5 6 7 8 9 10 \n",
      "\n",
      "2 4 6 8 10 12 14 16 18 20 \n",
      "\n",
      "3 6 9 12 15 18 21 24 27 30 \n",
      "\n",
      "4 8 12 16 20 24 28 32 36 40 \n",
      "\n",
      "5 10 15 20 25 30 35 40 45 50 \n",
      "\n",
      "6 12 18 24 30 36 42 48 54 60 \n",
      "\n",
      "7 14 21 28 35 42 49 56 63 70 \n",
      "\n",
      "8 16 24 32 40 48 56 64 72 80 \n",
      "\n",
      "9 18 27 36 45 54 63 72 81 90 \n",
      "\n",
      "10 20 30 40 50 60 70 80 90 100 \n",
      "\n"
     ]
    }
   ],
   "source": [
    "for i in range(1,11):\n",
    "    for j in range(1,11):\n",
    "        print(i*j,end=\" \")\n",
    "    print(\"\\n\")"
   ]
  },
  {
   "cell_type": "markdown",
   "metadata": {},
   "source": [
    "## 14) Print downward Half-Pyramid Pattern with Star (asterisk)\n",
    "\n"
   ]
  },
  {
   "cell_type": "code",
   "execution_count": 75,
   "metadata": {},
   "outputs": [
    {
     "name": "stdout",
     "output_type": "stream",
     "text": [
      "* * * * * \t\t\n",
      "* * * * \t\t\n",
      "* * * \t\t\n",
      "* * \t\t\n",
      "* \t\t\n"
     ]
    }
   ],
   "source": [
    "for i in range(5):\n",
    "    for j in range(5-i):\n",
    "        print(\"*\",end=\" \")\n",
    "    print()"
   ]
  },
  {
   "cell_type": "markdown",
   "metadata": {},
   "source": [
    "## 15) Write a function called exponent(base, exp) that returns an int value of base raises to the power of exp.\n",
    "\n",
    "Note here exp is a non-negative integer, and the base is an integer.\n",
    "\n",
    "Expected output\n",
    "\n",
    "Case 1:\n",
    "\n",
    "base = 2\n",
    "\n",
    "exponent = 5\n",
    "\n",
    "2 raises to the power of 5: 32 i.e. (2 *2 * 2 *2 *2 = 32)\n",
    "\n",
    "Case 2:\n",
    "\n",
    "base = 5\n",
    "\n",
    "exponent = 4\n",
    "\n",
    "5 raises to the power of 4 is: 625 \n",
    "\n",
    "i.e. (5 *5 * 5 *5 = 625)"
   ]
  },
  {
   "cell_type": "code",
   "execution_count": 76,
   "metadata": {},
   "outputs": [
    {
     "name": "stdout",
     "output_type": "stream",
     "text": [
      "2 raises to the power of 5 = 32 \n",
      "5 raises to the power of 4 = 625 \n"
     ]
    }
   ],
   "source": [
    "def exponent(base,exp):\n",
    "    result = base ** exp\n",
    "    print(\"{} raises to the power of {} = {} \".format(base,exp,result))\n",
    "exponent(2,5)\n",
    "exponent(5,4)"
   ]
  }
 ],
 "metadata": {
  "kernelspec": {
   "display_name": "Python 3",
   "language": "python",
   "name": "python3"
  },
  "language_info": {
   "codemirror_mode": {
    "name": "ipython",
    "version": 3
   },
   "file_extension": ".py",
   "mimetype": "text/x-python",
   "name": "python",
   "nbconvert_exporter": "python",
   "pygments_lexer": "ipython3",
   "version": "3.8.5"
  }
 },
 "nbformat": 4,
 "nbformat_minor": 4
}
